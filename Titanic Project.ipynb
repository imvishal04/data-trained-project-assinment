{
 "cells": [
  {
   "cell_type": "markdown",
   "id": "fe1a1b9a",
   "metadata": {},
   "source": [
    "# Titanic Project"
   ]
  },
  {
   "cell_type": "markdown",
   "id": "5b03b38f",
   "metadata": {},
   "source": [
    "This is a classification problem. The goal is to predict if an arbitrary passenger on Titanic would survive the sinking or not. In this dataset there are 11 features and 1 label \"Survived\" and the dataset contains both numerical and categorical data.\n",
    "\n",
    "Dataset Dictionary From the dataset we can assume the following things:\n",
    "\n",
    "Survived: 0 = No(Dead) and 1 = Yes(Survived) Pclass=Passengr's class: 1 = Upper class, 2 = Middle class, 3 = Lower class SibSp: It indicates the passenger's relation with siblings and Spouse. Parch: It indicates the passenger's relation with parents. Embarked: The ports of embarkations are C = Cherbourg, Q = Queenstown and S = Southampton."
   ]
  },
  {
   "cell_type": "code",
   "execution_count": null,
   "id": "16ff140c",
   "metadata": {},
   "outputs": [],
   "source": [
    "import numpy as np\n",
    "import pandas as pd\n",
    "import seaborn as sns\n",
    "import matplotlib.pyplot as plt\n",
    "import warnings\n",
    "import os\n",
    "import scipy as stats\n",
    "%matplotlib inline\n",
    "warnings.filterwarnings('ignore')"
   ]
  },
  {
   "cell_type": "code",
   "execution_count": null,
   "id": "62981bf4",
   "metadata": {},
   "outputs": [],
   "source": [
    "# Reading the csv file from dataset\n",
    "df = pd.read_csv(\"https://raw.githubusercontent.com/dsrscientist/dataset1/master/titanic_train.csv\")\n",
    "df"
   ]
  },
  {
   "cell_type": "code",
   "execution_count": null,
   "id": "a64c5a23",
   "metadata": {},
   "outputs": [],
   "source": [
    "df.head()"
   ]
  },
  {
   "cell_type": "code",
   "execution_count": null,
   "id": "f2a80b1e",
   "metadata": {},
   "outputs": [],
   "source": [
    "# Checking the dimension of the dataset\n",
    "df.shape"
   ]
  },
  {
   "cell_type": "code",
   "execution_count": null,
   "id": "7932c2da",
   "metadata": {},
   "outputs": [],
   "source": [
    "# Checking the types of the dataset\n",
    "df.dtypes"
   ]
  },
  {
   "cell_type": "code",
   "execution_count": null,
   "id": "6df31573",
   "metadata": {},
   "outputs": [],
   "source": [
    "df.info()"
   ]
  },
  {
   "cell_type": "code",
   "execution_count": null,
   "id": "1f9ecb75",
   "metadata": {},
   "outputs": [],
   "source": [
    "df.nunique()"
   ]
  },
  {
   "cell_type": "code",
   "execution_count": null,
   "id": "857151a2",
   "metadata": {},
   "outputs": [],
   "source": [
    "df.isnull().sum()"
   ]
  },
  {
   "cell_type": "code",
   "execution_count": null,
   "id": "f4aba2e8",
   "metadata": {},
   "outputs": [],
   "source": [
    "sns.heatmap(df.isnull())"
   ]
  },
  {
   "cell_type": "code",
   "execution_count": null,
   "id": "d647dbb3",
   "metadata": {},
   "outputs": [],
   "source": [
    "#checking columns\n",
    "df.columns"
   ]
  },
  {
   "cell_type": "code",
   "execution_count": null,
   "id": "aefcd19f",
   "metadata": {},
   "outputs": [],
   "source": [
    "df['Survived'].unique()"
   ]
  },
  {
   "cell_type": "code",
   "execution_count": null,
   "id": "640f18b6",
   "metadata": {},
   "outputs": [],
   "source": [
    "df[\"Survived\"].value_counts()"
   ]
  },
  {
   "cell_type": "code",
   "execution_count": null,
   "id": "1fdc40b2",
   "metadata": {},
   "outputs": [],
   "source": [
    "df.loc[df['Survived']==\" \"]"
   ]
  },
  {
   "cell_type": "code",
   "execution_count": null,
   "id": "3dfda6ce",
   "metadata": {},
   "outputs": [],
   "source": [
    "df.describe()"
   ]
  },
  {
   "cell_type": "markdown",
   "id": "d6ac8559",
   "metadata": {},
   "source": [
    "# Data Visualization by Univariate Analysis"
   ]
  },
  {
   "cell_type": "code",
   "execution_count": null,
   "id": "b653d466",
   "metadata": {},
   "outputs": [],
   "source": [
    "print(df[\"Survived\"].value_counts())\n",
    "sns.countplot(df[\"Survived\"])"
   ]
  },
  {
   "cell_type": "code",
   "execution_count": null,
   "id": "c54b90e2",
   "metadata": {},
   "outputs": [],
   "source": [
    "print(df[\"Pclass\"].value_counts())\n",
    "sns.countplot(df[\"Pclass\"])"
   ]
  },
  {
   "cell_type": "code",
   "execution_count": null,
   "id": "d38e7912",
   "metadata": {},
   "outputs": [],
   "source": [
    "print(df[\"Sex\"].value_counts())\n",
    "sns.countplot(df[\"Sex\"])"
   ]
  },
  {
   "cell_type": "code",
   "execution_count": null,
   "id": "40b775f9",
   "metadata": {},
   "outputs": [],
   "source": [
    "print(df[\"Embarked\"].value_counts())\n",
    "sns.factorplot('Embarked',kind='count',data=df,hue='Survived')"
   ]
  },
  {
   "cell_type": "code",
   "execution_count": null,
   "id": "64f2c4f9",
   "metadata": {},
   "outputs": [],
   "source": [
    "print(df[\"Parch\"].value_counts())\n",
    "sns.factorplot('Parch',kind='count',data=df,hue='Survived')"
   ]
  },
  {
   "cell_type": "markdown",
   "id": "d9793647",
   "metadata": {},
   "source": [
    "# Distribution of skewness"
   ]
  },
  {
   "cell_type": "code",
   "execution_count": null,
   "id": "693510ee",
   "metadata": {},
   "outputs": [],
   "source": [
    "sns.distplot(df[\"Age\"])"
   ]
  },
  {
   "cell_type": "code",
   "execution_count": null,
   "id": "d370a2b3",
   "metadata": {},
   "outputs": [],
   "source": [
    "sns.distplot(df[\"Fare\"])"
   ]
  },
  {
   "cell_type": "code",
   "execution_count": null,
   "id": "f11f885e",
   "metadata": {},
   "outputs": [],
   "source": [
    "sns.distplot(df[\"PassengerId\"])"
   ]
  },
  {
   "cell_type": "code",
   "execution_count": null,
   "id": "4249998e",
   "metadata": {},
   "outputs": [],
   "source": [
    "sns.distplot(df[\"Survived\"])"
   ]
  },
  {
   "cell_type": "code",
   "execution_count": null,
   "id": "8020217c",
   "metadata": {},
   "outputs": [],
   "source": [
    "sns.distplot(df[\"Pclass\"])"
   ]
  },
  {
   "cell_type": "code",
   "execution_count": null,
   "id": "32ff9ac2",
   "metadata": {},
   "outputs": [],
   "source": [
    "sns.distplot(df[\"SibSp\"])"
   ]
  },
  {
   "cell_type": "code",
   "execution_count": null,
   "id": "f5df3c8d",
   "metadata": {},
   "outputs": [],
   "source": [
    "sns.distplot(df[\"Parch\"])"
   ]
  },
  {
   "cell_type": "markdown",
   "id": "9b5e6dc4",
   "metadata": {},
   "source": [
    "# Bivariate Analysis"
   ]
  },
  {
   "cell_type": "code",
   "execution_count": null,
   "id": "8cff1dd9",
   "metadata": {},
   "outputs": [],
   "source": [
    "# Checking the relation between two variables\n",
    "plt.figure(figsize=[10,6])\n",
    "plt.title('Comparision between Pclass and Age')\n",
    "sns.scatterplot(df['Pclass'],df['Age'],hue=df[\"Survived\"]);"
   ]
  },
  {
   "cell_type": "code",
   "execution_count": null,
   "id": "01a22054",
   "metadata": {},
   "outputs": [],
   "source": [
    "plt.figure(figsize=[10,6])\n",
    "plt.title('Comparision between Pclass and Sex')\n",
    "sns.scatterplot(df['Pclass'],df['Sex'],hue=df[\"Survived\"]);"
   ]
  },
  {
   "cell_type": "code",
   "execution_count": null,
   "id": "088e3652",
   "metadata": {},
   "outputs": [],
   "source": [
    "# Checking the relation between two variables\n",
    "plt.figure(figsize=[10,6])\n",
    "plt.title('Comparision between Age and Embarked')\n",
    "sns.scatterplot(df['Embarked'],df['Age'],hue=df[\"Survived\"]);"
   ]
  },
  {
   "cell_type": "code",
   "execution_count": null,
   "id": "c0619bbb",
   "metadata": {},
   "outputs": [],
   "source": [
    "# Checking the relation between two variables\n",
    "plt.figure(figsize=[10,6])\n",
    "plt.title('Comparision between Sex and Parch')\n",
    "sns.scatterplot(df['Sex'],df['Parch'],hue=df[\"Survived\"]);"
   ]
  },
  {
   "cell_type": "code",
   "execution_count": null,
   "id": "673bff8e",
   "metadata": {},
   "outputs": [],
   "source": [
    "# Checking the relation between two variables\n",
    "plt.figure(figsize=[10,6])\n",
    "plt.title('Comparision between Age and Fare')\n",
    "sns.scatterplot(df['Age'],df['Fare'],hue=df[\"Survived\"]);"
   ]
  },
  {
   "cell_type": "code",
   "execution_count": null,
   "id": "1f0aed08",
   "metadata": {},
   "outputs": [],
   "source": [
    "# Checking the pairwise relation in the dataset.\n",
    "sns.pairplot(df,hue=\"Survived\")"
   ]
  },
  {
   "cell_type": "markdown",
   "id": "36112184",
   "metadata": {},
   "source": [
    "# Correlation between the target variable and independent variables using HEAT map"
   ]
  },
  {
   "cell_type": "code",
   "execution_count": null,
   "id": "c3b53d9f",
   "metadata": {},
   "outputs": [],
   "source": [
    "cor = df.corr()\n",
    "cor"
   ]
  },
  {
   "cell_type": "code",
   "execution_count": null,
   "id": "3b5cacca",
   "metadata": {},
   "outputs": [],
   "source": [
    "# Visualizing the correlation matrix by plotting heat map.\n",
    "plt.figure(figsize=(16,9))\n",
    "sns.heatmap(df.corr(),linewidths=.1, annot = True)\n",
    "plt.yticks(rotation=0);\n",
    "cor['Survived'].sort_values(ascending=False)"
   ]
  },
  {
   "cell_type": "markdown",
   "id": "4fcae74b",
   "metadata": {},
   "source": [
    "# Visualizing the correlation between label and features using bar plot\n"
   ]
  },
  {
   "cell_type": "code",
   "execution_count": null,
   "id": "2e9fba0d",
   "metadata": {},
   "outputs": [],
   "source": [
    "plt.figure(figsize=(22,7))\n",
    "df.corr()['Survived'].sort_values(ascending=False).drop(['Survived']).plot(kind='bar',color='c')\n",
    "plt.xlabel('Feature',fontsize=14)\n",
    "plt.ylabel('column with target names',fontsize=14)\n",
    "plt.title('correlation',fontsize=18)\n",
    "plt.show()"
   ]
  },
  {
   "cell_type": "code",
   "execution_count": null,
   "id": "674945ff",
   "metadata": {},
   "outputs": [],
   "source": [
    "# Dropping PassengerId column\n",
    "df.drop('PassengerId', axis=1, inplace = True )\n",
    "df.drop('Name',axis=1, inplace=True)   # Name has no important to build our madel\n",
    "df.head()"
   ]
  },
  {
   "cell_type": "markdown",
   "id": "761e33db",
   "metadata": {},
   "source": [
    "# Identifying the outliers"
   ]
  },
  {
   "cell_type": "code",
   "execution_count": null,
   "id": "5970b1e1",
   "metadata": {},
   "outputs": [],
   "source": [
    "sns.boxplot(df[\"Age\"])"
   ]
  },
  {
   "cell_type": "code",
   "execution_count": null,
   "id": "2782d30f",
   "metadata": {},
   "outputs": [],
   "source": [
    "sns.boxplot(df[\"Fare\"])"
   ]
  },
  {
   "cell_type": "code",
   "execution_count": null,
   "id": "0ac66a7d",
   "metadata": {},
   "outputs": [],
   "source": [
    "sns.boxplot(df[\"SibSp\"])"
   ]
  },
  {
   "cell_type": "code",
   "execution_count": null,
   "id": "6f38cd38",
   "metadata": {},
   "outputs": [],
   "source": [
    "sns.boxplot(df[\"Parch\"])\n"
   ]
  },
  {
   "cell_type": "code",
   "execution_count": null,
   "id": "31e5e356",
   "metadata": {},
   "outputs": [],
   "source": [
    "df.isnull().sum()"
   ]
  },
  {
   "cell_type": "code",
   "execution_count": null,
   "id": "08080be0",
   "metadata": {},
   "outputs": [],
   "source": [
    "df[\"Age\"] = df[\"Age\"].fillna(df[\"Age\"].median())"
   ]
  },
  {
   "cell_type": "code",
   "execution_count": null,
   "id": "0d899c0d",
   "metadata": {},
   "outputs": [],
   "source": [
    "df[\"Embarked\"] = df[\"Embarked\"].fillna(df[\"Embarked\"].mode()[0])"
   ]
  },
  {
   "cell_type": "code",
   "execution_count": null,
   "id": "907926b5",
   "metadata": {},
   "outputs": [],
   "source": [
    "df['Cabin'] = df['Cabin'].fillna('U')"
   ]
  },
  {
   "cell_type": "code",
   "execution_count": null,
   "id": "60e6f7f9",
   "metadata": {},
   "outputs": [],
   "source": [
    "#Zscore method\n",
    "df.columns"
   ]
  },
  {
   "cell_type": "code",
   "execution_count": null,
   "id": "d4f09ba9",
   "metadata": {},
   "outputs": [],
   "source": [
    "#Chcking null values after filling them\n",
    "df.isnull().sum()"
   ]
  },
  {
   "cell_type": "code",
   "execution_count": null,
   "id": "674940a4",
   "metadata": {},
   "outputs": [],
   "source": [
    "# Visualizing the missing value after treating it using heat map.\n",
    "sns.heatmap(df.isnull())"
   ]
  },
  {
   "cell_type": "code",
   "execution_count": null,
   "id": "8871fa08",
   "metadata": {},
   "outputs": [],
   "source": []
  },
  {
   "cell_type": "code",
   "execution_count": null,
   "id": "d80a979e",
   "metadata": {},
   "outputs": [],
   "source": []
  },
  {
   "cell_type": "code",
   "execution_count": null,
   "id": "435da6e7",
   "metadata": {},
   "outputs": [],
   "source": [
    "df.columns"
   ]
  },
  {
   "cell_type": "code",
   "execution_count": null,
   "id": "b435a1f9",
   "metadata": {},
   "outputs": [],
   "source": [
    "variables = df[['Age','Fare']]"
   ]
  },
  {
   "cell_type": "code",
   "execution_count": null,
   "id": "e2bff0b4",
   "metadata": {},
   "outputs": [],
   "source": [
    "from scipy.stats import zscore\n",
    "z=np.abs(zscore(variables))\n",
    "z"
   ]
  },
  {
   "cell_type": "code",
   "execution_count": null,
   "id": "717a905b",
   "metadata": {},
   "outputs": [],
   "source": [
    "new_df = df[(z<3).all(axis=1)]\n",
    "new_df.head()"
   ]
  },
  {
   "cell_type": "code",
   "execution_count": null,
   "id": "dd9fd245",
   "metadata": {},
   "outputs": [],
   "source": [
    "df.shape"
   ]
  },
  {
   "cell_type": "code",
   "execution_count": null,
   "id": "bc4a42e0",
   "metadata": {},
   "outputs": [],
   "source": [
    "new_df.shape"
   ]
  },
  {
   "cell_type": "code",
   "execution_count": null,
   "id": "ce82d0ab",
   "metadata": {},
   "outputs": [],
   "source": [
    "# Let's check the the data loss\n",
    "data_loss = (891-864)/891*100\n",
    "data_loss"
   ]
  },
  {
   "cell_type": "code",
   "execution_count": null,
   "id": "7cef3937",
   "metadata": {},
   "outputs": [],
   "source": [
    "# IQR (Inter Quantile Range) method\n",
    "# 1st quantile\n",
    "Q1=variables.quantile(0.25)\n",
    "\n",
    "# 3rd quantile\n",
    "Q3=variables.quantile(0.75)\n",
    "\n",
    "# IQR\n",
    "IQR=Q3 - Q1\n",
    "\n",
    "df1=df[~((df < (Q1 - 1.5 * IQR)) |(df > (Q3 + 1.5 * IQR))).any(axis=1)]\n"
   ]
  },
  {
   "cell_type": "code",
   "execution_count": null,
   "id": "87541ac2",
   "metadata": {},
   "outputs": [],
   "source": [
    "df.shape"
   ]
  },
  {
   "cell_type": "code",
   "execution_count": null,
   "id": "7939593b",
   "metadata": {},
   "outputs": [],
   "source": [
    "df1.shape"
   ]
  },
  {
   "cell_type": "code",
   "execution_count": null,
   "id": "2c3a801d",
   "metadata": {},
   "outputs": [],
   "source": [
    "data_loss = (891-721)/891*100\n",
    "data_loss"
   ]
  },
  {
   "cell_type": "code",
   "execution_count": null,
   "id": "150972d5",
   "metadata": {},
   "outputs": [],
   "source": [
    "new_df.skew()"
   ]
  },
  {
   "cell_type": "markdown",
   "id": "c3043880",
   "metadata": {},
   "source": [
    "# Encoding the data using Label Encoding"
   ]
  },
  {
   "cell_type": "code",
   "execution_count": null,
   "id": "aedf04f9",
   "metadata": {},
   "outputs": [],
   "source": [
    "cols = [\"Sex\", \"Ticket\", \"Cabin\", \"Embarked\"]\n"
   ]
  },
  {
   "cell_type": "code",
   "execution_count": null,
   "id": "4ebda96e",
   "metadata": {},
   "outputs": [],
   "source": [
    "from sklearn.preprocessing import LabelEncoder\n",
    "LE=LabelEncoder()\n",
    "new_df[cols]= new_df[cols].apply(LE.fit_transform)"
   ]
  },
  {
   "cell_type": "code",
   "execution_count": null,
   "id": "0d28b615",
   "metadata": {},
   "outputs": [],
   "source": [
    "new_df[cols].head()"
   ]
  },
  {
   "cell_type": "code",
   "execution_count": null,
   "id": "ef499d35",
   "metadata": {},
   "outputs": [],
   "source": [
    "new_df.head()"
   ]
  },
  {
   "cell_type": "code",
   "execution_count": null,
   "id": "4b5a3892",
   "metadata": {},
   "outputs": [],
   "source": [
    "x = new_df.drop(\"Survived\", axis=1)\n",
    "y = new_df[\"Survived\"]"
   ]
  },
  {
   "cell_type": "code",
   "execution_count": null,
   "id": "68a1cc1c",
   "metadata": {},
   "outputs": [],
   "source": [
    "x.head()"
   ]
  },
  {
   "cell_type": "code",
   "execution_count": null,
   "id": "3e088039",
   "metadata": {},
   "outputs": [],
   "source": [
    "y.value_counts()"
   ]
  },
  {
   "cell_type": "code",
   "execution_count": null,
   "id": "60c9d031",
   "metadata": {},
   "outputs": [],
   "source": [
    "x.shape, y.shape"
   ]
  },
  {
   "cell_type": "markdown",
   "id": "a2a7b2e6",
   "metadata": {},
   "source": [
    "# Modeling\n",
    "#Finding the best random state"
   ]
  },
  {
   "cell_type": "code",
   "execution_count": null,
   "id": "2bde8dd1",
   "metadata": {},
   "outputs": [],
   "source": [
    "x.shape, y.shape"
   ]
  },
  {
   "cell_type": "code",
   "execution_count": null,
   "id": "76445246",
   "metadata": {},
   "outputs": [],
   "source": [
    "from sklearn.tree import DecisionTreeClassifier\n",
    "from sklearn.model_selection import train_test_split\n",
    "from sklearn.metrics import accuracy_score\n",
    "maxAccu=0\n",
    "maxRS=0\n",
    "for i in range(1,200):\n",
    "    x_train,x_test,y_train,y_test = train_test_split(x,y,test_size=.30, random_state =i)\n",
    "    DTC = DecisionTreeClassifier()\n",
    "    DTC.fit(x_train, y_train)\n",
    "    pred = DTC.predict(x_test)\n",
    "    acc=accuracy_score(y_test, pred)\n",
    "    if acc>maxAccu:\n",
    "        maxAccu=acc\n",
    "        maxRS=i\n",
    "print(\"Best accuracy is \",maxAccu,\" on Random_state \",maxRS)"
   ]
  },
  {
   "cell_type": "code",
   "execution_count": null,
   "id": "7d417a34",
   "metadata": {},
   "outputs": [],
   "source": [
    "x_train,x_test,y_train,y_test=train_test_split(x,y,test_size=.30,random_state=maxRS)"
   ]
  },
  {
   "cell_type": "code",
   "execution_count": null,
   "id": "cf671a87",
   "metadata": {},
   "outputs": [],
   "source": [
    "x_train.shape,y_train.shape, x_test.shape,y_test.shape\n"
   ]
  },
  {
   "cell_type": "code",
   "execution_count": null,
   "id": "eb2183dc",
   "metadata": {},
   "outputs": [],
   "source": [
    "#classification of algorithms\n",
    "#importing necessary libraries.\n",
    "from sklearn.tree import DecisionTreeClassifier\n",
    "from sklearn.ensemble import RandomForestClassifier\n",
    "from sklearn.svm import SVC\n",
    "from sklearn.linear_model import LogisticRegression\n",
    "from sklearn.neighbors import KNeighborsClassifier as KNN\n",
    "from sklearn.ensemble import GradientBoostingClassifier\n",
    "from sklearn.metrics import classification_report, confusion_matrix, roc_curve, roc_auc_score, accuracy_score"
   ]
  },
  {
   "cell_type": "code",
   "execution_count": null,
   "id": "22ca736a",
   "metadata": {},
   "outputs": [],
   "source": [
    "#Decision Tree Classifier\n",
    "DTC = DecisionTreeClassifier()\n",
    "DTC.fit(x_train,y_train)\n",
    "predDTC = DTC.predict(x_test)\n",
    "\n",
    "print(accuracy_score(y_test, predDTC))\n",
    "print(confusion_matrix(y_test, predDTC))\n",
    "print(classification_report(y_test,predDTC))"
   ]
  },
  {
   "cell_type": "code",
   "execution_count": null,
   "id": "c6196aad",
   "metadata": {},
   "outputs": [],
   "source": [
    "# Lets plot confusion matrix for DTC\n",
    "cm = confusion_matrix(y_test,predDTC)\n",
    "\n",
    "x_axis_labels = [\"Died\",\"Survived\"]\n",
    "y_axis_labels = [\"Died\",\"Survived\"]\n",
    "\n",
    "f , ax = plt.subplots(figsize=(7,7))\n",
    "sns.heatmap(cm, annot = True,linewidths=.2, linecolor=\"black\", fmt = \".0f\", ax=ax, cmap=\"Purples\", \n",
    "xticklabels=x_axis_labels,\n",
    "yticklabels=y_axis_labels)\n",
    "\n",
    "plt.xlabel(\"PREDICTED LABEL\")\n",
    "plt.ylabel(\"TRUE LABEL\")\n",
    "plt.title('Confusion Matrix for Decision Tree Classifier')"
   ]
  },
  {
   "cell_type": "code",
   "execution_count": null,
   "id": "9d67fa14",
   "metadata": {},
   "outputs": [],
   "source": [
    "#Random Forest Classifier\n",
    "RFC = RandomForestClassifier()\n",
    "RFC.fit(x_train,y_train)\n",
    "predRFC = RFC.predict(x_test)\n",
    "\n",
    "print(accuracy_score(y_test, predRFC))\n",
    "print(confusion_matrix(y_test, predRFC))\n",
    "print(classification_report(y_test,predRFC))\n"
   ]
  },
  {
   "cell_type": "code",
   "execution_count": null,
   "id": "6c42d171",
   "metadata": {},
   "outputs": [],
   "source": [
    "# Lets plot confusion matrix for Random Forest Classifier\n",
    "cm = confusion_matrix(y_test,predRFC)\n",
    "\n",
    "x_axis_labels = [\"Died\",\"Survived\"]\n",
    "y_axis_labels = [\"Died\",\"Survived\"]\n",
    "\n",
    "f , ax = plt.subplots(figsize=(7,7))\n",
    "sns.heatmap(cm, annot = True,linewidths=.2, linecolor=\"black\", fmt = \".0f\", ax=ax, cmap=\"Purples\", \n",
    "xticklabels=x_axis_labels,\n",
    "yticklabels=y_axis_labels)\n",
    "\n",
    "plt.xlabel(\"PREDICTED LABEL\")\n",
    "plt.ylabel(\"TRUE LABEL\")\n",
    "plt.title('Confusion Matrix for Random Forest Classifier')"
   ]
  },
  {
   "cell_type": "code",
   "execution_count": null,
   "id": "fba2f58c",
   "metadata": {},
   "outputs": [],
   "source": [
    "#Logistic Regression\n",
    "LR=LogisticRegression()\n",
    "LR.fit(x_train,y_train)\n",
    "predLR=LR.predict(x_test)\n",
    "\n",
    "print(accuracy_score(y_test, predLR))\n",
    "print(confusion_matrix(y_test, predLR))\n",
    "print(classification_report(y_test,predLR))\n"
   ]
  },
  {
   "cell_type": "code",
   "execution_count": null,
   "id": "aec8e022",
   "metadata": {},
   "outputs": [],
   "source": [
    "# Lets plot confusion matrix for Logistic Regression\n",
    "cm = confusion_matrix(y_test,predLR)\n",
    "\n",
    "x_axis_labels = [\"Died\",\"Survived\"]\n",
    "y_axis_labels = [\"Died\",\"Survived\"]\n",
    "\n",
    "f , ax = plt.subplots(figsize=(7,7))\n",
    "sns.heatmap(cm, annot = True,linewidths=.2, linecolor=\"black\", fmt = \".0f\", ax=ax, cmap=\"Purples\", \n",
    "xticklabels=x_axis_labels,\n",
    "yticklabels=y_axis_labels)\n",
    "\n",
    "plt.xlabel(\"PREDICTED LABEL\")\n",
    "plt.ylabel(\"TRUE LABEL\")\n",
    "plt.title('Confusion Matrix for Logistic Regression')"
   ]
  },
  {
   "cell_type": "markdown",
   "id": "83c584b0",
   "metadata": {},
   "source": [
    "# Checking the Cross Validation Score\n"
   ]
  },
  {
   "cell_type": "code",
   "execution_count": null,
   "id": "a104a69a",
   "metadata": {},
   "outputs": [],
   "source": [
    "from sklearn.model_selection import cross_val_score\n"
   ]
  },
  {
   "cell_type": "code",
   "execution_count": null,
   "id": "34e0c4cf",
   "metadata": {},
   "outputs": [],
   "source": [
    "# cv score for Decision Tree Classifier\n",
    "print(cross_val_score(DTC,x,y,cv=5).mean())"
   ]
  },
  {
   "cell_type": "code",
   "execution_count": null,
   "id": "04520b7e",
   "metadata": {},
   "outputs": [],
   "source": [
    "# cv score for Random Forest Classifier\n",
    "print(cross_val_score(RFC,x,y,cv=5).mean())"
   ]
  },
  {
   "cell_type": "code",
   "execution_count": null,
   "id": "3020523c",
   "metadata": {},
   "outputs": [],
   "source": [
    "# cv score for Logistic Regression \n",
    "print(cross_val_score(LR,x,y,cv=5).mean())"
   ]
  },
  {
   "cell_type": "markdown",
   "id": "273728aa",
   "metadata": {},
   "source": [
    "# Hyper parameter tuning for best model"
   ]
  },
  {
   "cell_type": "code",
   "execution_count": null,
   "id": "2870fa8b",
   "metadata": {},
   "outputs": [],
   "source": [
    "from sklearn.model_selection import GridSearchCV"
   ]
  },
  {
   "cell_type": "code",
   "execution_count": null,
   "id": "5655e4ea",
   "metadata": {},
   "outputs": [],
   "source": [
    "# Random Forest Classifier\n",
    "parameters = {'n_estimators':[0,200],\n",
    "             'criterion':['gini','entropy'],\n",
    "             'max_depth':np.arange(2,50),\n",
    "             'max_features':[\"auto\",\"sqrt\",\"log2\"],\n",
    "             'max_leaf_nodes':[10,20,30,40]}"
   ]
  },
  {
   "cell_type": "code",
   "execution_count": null,
   "id": "f6478a34",
   "metadata": {},
   "outputs": [],
   "source": [
    "GCV=GridSearchCV(RandomForestClassifier(),parameters,cv=5)"
   ]
  },
  {
   "cell_type": "code",
   "execution_count": null,
   "id": "84ccf0cc",
   "metadata": {},
   "outputs": [],
   "source": [
    "GCV.fit(x_train,y_train)"
   ]
  },
  {
   "cell_type": "code",
   "execution_count": null,
   "id": "64737ebc",
   "metadata": {},
   "outputs": [],
   "source": [
    "GCV.best_params_"
   ]
  },
  {
   "cell_type": "code",
   "execution_count": null,
   "id": "7a09ed1e",
   "metadata": {},
   "outputs": [],
   "source": [
    "Titanic_survived = RandomForestClassifier(criterion='gini',max_depth=27, max_features='sqrt', max_leaf_nodes=40, n_estimators=200)\n",
    "Titanic_survived.fit(x_train, y_train)\n",
    "pred = Titanic_survived.predict(x_test)\n",
    "acc=accuracy_score(y_test,pred)\n",
    "print(acc*100)"
   ]
  },
  {
   "cell_type": "code",
   "execution_count": null,
   "id": "2f3d9eed",
   "metadata": {},
   "outputs": [],
   "source": [
    "x.shape"
   ]
  },
  {
   "cell_type": "markdown",
   "id": "4756c8bd",
   "metadata": {},
   "source": [
    "# Plotting ROC-AUC curve for best model"
   ]
  },
  {
   "cell_type": "code",
   "execution_count": null,
   "id": "4098aec8",
   "metadata": {},
   "outputs": [],
   "source": [
    "# Support Vector Machine Classifier\n",
    "from sklearn import datasets \n",
    "from sklearn import metrics\n",
    "from sklearn import model_selection\n",
    "x,y = datasets.make_classification (random_state=192)\n",
    "x_train, x_test, y_train, y_test = model_selection.train_test_split(x,y,random_state=87)\n",
    "df = RandomForestClassifier(random_state=192)\n",
    "df.fit(x_train, y_train)\n",
    "metrics.plot_roc_curve(df, x_test, y_test)\n",
    "plt.show()"
   ]
  },
  {
   "cell_type": "code",
   "execution_count": null,
   "id": "7d03b99b",
   "metadata": {},
   "outputs": [],
   "source": [
    "# Saving the model using .pkl\n",
    "import joblib\n",
    "joblib.dump(Titanic_survived,\"Titanic.pkl\")"
   ]
  },
  {
   "cell_type": "code",
   "execution_count": null,
   "id": "e6659408",
   "metadata": {},
   "outputs": [],
   "source": []
  }
 ],
 "metadata": {
  "kernelspec": {
   "display_name": "Python 3 (ipykernel)",
   "language": "python",
   "name": "python3"
  },
  "language_info": {
   "codemirror_mode": {
    "name": "ipython",
    "version": 3
   },
   "file_extension": ".py",
   "mimetype": "text/x-python",
   "name": "python",
   "nbconvert_exporter": "python",
   "pygments_lexer": "ipython3",
   "version": "3.9.7"
  }
 },
 "nbformat": 4,
 "nbformat_minor": 5
}
